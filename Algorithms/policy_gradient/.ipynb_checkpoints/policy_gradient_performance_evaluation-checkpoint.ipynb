{
 "cells": [
  {
   "cell_type": "markdown",
   "metadata": {
    "id": "wS0wqcooVTKV"
   },
   "source": [
    "#Setup"
   ]
  },
  {
   "cell_type": "markdown",
   "metadata": {
    "id": "oPG-1WPPWSVS"
   },
   "source": [
    "Install Dependencies"
   ]
  },
  {
   "cell_type": "code",
   "execution_count": 1,
   "metadata": {
    "colab": {
     "base_uri": "https://localhost:8080/"
    },
    "id": "PaUFXOOjV-7w",
    "outputId": "15704d88-bc9f-4534-d431-48c38fae6c9d"
   },
   "outputs": [
    {
     "name": "stdout",
     "output_type": "stream",
     "text": [
      "Requirement already satisfied: gymnasium in c:\\users\\baoh2\\miniconda3\\lib\\site-packages (0.27.1)\n",
      "Requirement already satisfied: gymnasium-notices>=0.0.1 in c:\\users\\baoh2\\miniconda3\\lib\\site-packages (from gymnasium) (0.0.1)\n",
      "Requirement already satisfied: typing-extensions>=4.3.0 in c:\\users\\baoh2\\miniconda3\\lib\\site-packages (from gymnasium) (4.5.0)\n",
      "Requirement already satisfied: importlib-metadata>=4.8.0 in c:\\users\\baoh2\\miniconda3\\lib\\site-packages (from gymnasium) (4.13.0)\n",
      "Requirement already satisfied: cloudpickle>=1.2.0 in c:\\users\\baoh2\\miniconda3\\lib\\site-packages (from gymnasium) (2.0.0)\n",
      "Requirement already satisfied: jax-jumpy>=0.2.0 in c:\\users\\baoh2\\miniconda3\\lib\\site-packages (from gymnasium) (1.0.0)\n",
      "Requirement already satisfied: numpy>=1.21.0 in c:\\users\\baoh2\\miniconda3\\lib\\site-packages (from gymnasium) (1.23.4)\n",
      "Requirement already satisfied: zipp>=0.5 in c:\\users\\baoh2\\miniconda3\\lib\\site-packages (from importlib-metadata>=4.8.0->gymnasium) (3.6.0)\n"
     ]
    }
   ],
   "source": [
    "!pip install gymnasium"
   ]
  },
  {
   "cell_type": "markdown",
   "metadata": {
    "id": "OwuT6WBDWXtP"
   },
   "source": [
    "Import dependencies"
   ]
  },
  {
   "cell_type": "code",
   "execution_count": 2,
   "metadata": {
    "id": "TMOhXvuPVI36"
   },
   "outputs": [],
   "source": [
    "import gymnasium as gym\n",
    "import numpy as np\n",
    "import torch\n",
    "import torch.nn as nn\n",
    "import torch.optim as optim\n",
    "import torch.nn.functional as F\n",
    "from torch.distributions import Categorical\n",
    "import time\n",
    "import matplotlib.pyplot as plt\n"
   ]
  },
  {
   "cell_type": "markdown",
   "metadata": {
    "id": "zEYVUYwDWZz6"
   },
   "source": [
    "#Preperation"
   ]
  },
  {
   "cell_type": "markdown",
   "metadata": {
    "id": "dpLmm9e-VdKO"
   },
   "source": [
    "Define the Policy Network"
   ]
  },
  {
   "cell_type": "code",
   "execution_count": 3,
   "metadata": {
    "id": "llT5UWkqVjlN"
   },
   "outputs": [],
   "source": [
    "class Policy(nn.Module):\n",
    "    def __init__(self, state_dim, action_dim):\n",
    "        super(Policy, self).__init__()\n",
    "        self.fc1 = nn.Linear(state_dim, 128)\n",
    "        self.fc2 = nn.Linear(128, action_dim)\n",
    "\n",
    "    def forward(self, x):\n",
    "        x = F.relu(self.fc1(x))\n",
    "        x = self.fc2(x)\n",
    "        return F.softmax(x, dim=1)"
   ]
  },
  {
   "cell_type": "markdown",
   "metadata": {
    "id": "ZZzHql1zVoka"
   },
   "source": [
    "Create the environment, instantiate the policy network and define the optimizer"
   ]
  },
  {
   "cell_type": "code",
   "execution_count": 10,
   "metadata": {
    "id": "Mos9fZ3XVzHs"
   },
   "outputs": [],
   "source": [
    "# Create the environment\n",
    "env = gym.make('CartPole-v1',render_mode=\"rgb_array\")\n",
    "state_dim = env.observation_space.shape[0]\n",
    "action_dim = env.action_space.n\n",
    "\n",
    "# Initialize the policy network\n",
    "policy = Policy(state_dim, action_dim)\n",
    "\n",
    "# Define the optimizer\n",
    "optimizer = optim.Adam(policy.parameters(), lr=0.01)"
   ]
  },
  {
   "cell_type": "markdown",
   "metadata": {
    "id": "gHTWi9VCWlHC"
   },
   "source": [
    "#Algorithm"
   ]
  },
  {
   "cell_type": "markdown",
   "metadata": {
    "id": "eBBh34JjWobw"
   },
   "source": [
    "Pick an action based on policy"
   ]
  },
  {
   "cell_type": "code",
   "execution_count": 11,
   "metadata": {
    "id": "ds320_LRWvqS"
   },
   "outputs": [],
   "source": [
    "def select_action(state):\n",
    "    state = np.array(state)\n",
    "    state = torch.from_numpy(state).float().unsqueeze(0)\n",
    "    probs = policy(state)\n",
    "    m = Categorical(probs)\n",
    "    action = m.sample()\n",
    "    return action.item(), m.log_prob(action)"
   ]
  },
  {
   "cell_type": "markdown",
   "metadata": {
    "id": "51JQZKsjWyKd"
   },
   "source": [
    "Policy Gradiant Algorithm, the actual training loop"
   ]
  },
  {
   "cell_type": "code",
   "execution_count": 12,
   "metadata": {
    "id": "TIZnJg5yW4oJ"
   },
   "outputs": [],
   "source": [
    "def policy_gradient():\n",
    "    num_episodes = 10000\n",
    "    gamma = 0.99\n",
    "\n",
    "    rewards_per_episode = []  # List to store rewards for each episode\n",
    "    policy_losses = []  # List to store policy loss for each episode\n",
    "\n",
    "    # for 10000 episodes\n",
    "    for episode in range(num_episodes):\n",
    "        observations = env.reset()\n",
    "        state = np.array(observations[0])\n",
    "        episode_reward = 0\n",
    "        log_probs = []\n",
    "        rewards = []\n",
    "\n",
    "        # loop through each time step in one episode\n",
    "        while True:\n",
    "            action, log_prob = select_action(state)\n",
    "            next_state, reward, done, truncated, _ = env.step(action)\n",
    "\n",
    "            log_probs.append(log_prob)\n",
    "            rewards.append(reward)\n",
    "            episode_reward += reward\n",
    "\n",
    "            if done or truncated:\n",
    "                break\n",
    "\n",
    "            state = next_state\n",
    "\n",
    "\n",
    "        # Compute the discounted rewards\n",
    "        discounts = [gamma**i for i in range(len(rewards))]\n",
    "        discounted_rewards = [discount * reward for discount, reward in zip(discounts, rewards)]\n",
    "        \n",
    "        # Convert the discounted_rewards into a Tensor\n",
    "        discounted_rewards = torch.Tensor(discounted_rewards)\n",
    "\n",
    "        # Normalize the discounted rewards\n",
    "        discounted_rewards -= torch.mean(discounted_rewards)\n",
    "        discounted_rewards /= torch.std(discounted_rewards)\n",
    "\n",
    "        # Calculate the loss\n",
    "        policy_loss = []\n",
    "        for log_prob, reward in zip(log_probs, discounted_rewards):\n",
    "            policy_loss.append(-log_prob * reward)\n",
    "        policy_loss = torch.cat(policy_loss).sum()\n",
    "\n",
    "        # Update the policy network\n",
    "        optimizer.zero_grad()\n",
    "        policy_loss.backward()\n",
    "        optimizer.step()\n",
    "\n",
    "        # Print the episode statistics\n",
    "        if episode % 50 == 0:\n",
    "            print('Episode {}: reward = {}'.format(episode, episode_reward))\n",
    "        \n",
    "        rewards_per_episode.append(episode_reward)\n",
    "        policy_losses.append(policy_loss.item())\n",
    "    \n",
    "    plt.figure(figsize=(10, 5))\n",
    "    plt.subplot(1, 2, 1)\n",
    "    plt.plot(rewards_per_episode)\n",
    "    plt.xlabel('Episode')\n",
    "    plt.ylabel('Reward')\n",
    "    plt.title('Reward per Episode')\n",
    "\n",
    "    plt.subplot(1, 2, 2)\n",
    "    plt.plot(policy_losses)\n",
    "    plt.xlabel('Episode')\n",
    "    plt.ylabel('Policy Loss')\n",
    "    plt.title('Policy Loss per Episode')\n",
    "\n",
    "    plt.tight_layout()\n",
    "    plt.show()"
   ]
  },
  {
   "cell_type": "markdown",
   "metadata": {
    "id": "vWDyzAqNanmp"
   },
   "source": [
    "#Run Trials"
   ]
  },
  {
   "cell_type": "code",
   "execution_count": 13,
   "metadata": {
    "colab": {
     "base_uri": "https://localhost:8080/"
    },
    "id": "Djyn389ManPG",
    "outputId": "929f01fa-0423-40b2-f2bd-1ef3881bcc55"
   },
   "outputs": [
    {
     "name": "stdout",
     "output_type": "stream",
     "text": [
      "Episode 0: reward = 15.0\n",
      "Episode 50: reward = 10.0\n",
      "Episode 100: reward = 9.0\n",
      "Episode 150: reward = 10.0\n",
      "Episode 200: reward = 10.0\n",
      "Episode 250: reward = 9.0\n",
      "Episode 300: reward = 10.0\n",
      "Episode 350: reward = 9.0\n",
      "Episode 400: reward = 10.0\n",
      "Episode 450: reward = 10.0\n",
      "Episode 500: reward = 10.0\n",
      "Episode 550: reward = 8.0\n",
      "Episode 600: reward = 9.0\n",
      "Episode 650: reward = 10.0\n",
      "Episode 700: reward = 9.0\n",
      "Episode 750: reward = 9.0\n",
      "Episode 800: reward = 9.0\n",
      "Episode 850: reward = 9.0\n",
      "Episode 900: reward = 9.0\n",
      "Episode 950: reward = 9.0\n",
      "Episode 1000: reward = 10.0\n",
      "Episode 1050: reward = 10.0\n",
      "Episode 1100: reward = 9.0\n",
      "Episode 1150: reward = 10.0\n",
      "Episode 1200: reward = 10.0\n",
      "Episode 1250: reward = 9.0\n",
      "Episode 1300: reward = 9.0\n",
      "Episode 1350: reward = 9.0\n",
      "Episode 1400: reward = 11.0\n",
      "Episode 1450: reward = 10.0\n",
      "Episode 1500: reward = 9.0\n",
      "Episode 1550: reward = 10.0\n",
      "Episode 1600: reward = 9.0\n",
      "Episode 1650: reward = 9.0\n",
      "Episode 1700: reward = 9.0\n",
      "Episode 1750: reward = 10.0\n",
      "Episode 1800: reward = 9.0\n",
      "Episode 1850: reward = 9.0\n",
      "Episode 1900: reward = 9.0\n",
      "Episode 1950: reward = 8.0\n",
      "Episode 2000: reward = 9.0\n",
      "Episode 2050: reward = 10.0\n",
      "Episode 2100: reward = 10.0\n",
      "Episode 2150: reward = 10.0\n",
      "Episode 2200: reward = 9.0\n",
      "Episode 2250: reward = 10.0\n",
      "Episode 2300: reward = 9.0\n",
      "Episode 2350: reward = 10.0\n",
      "Episode 2400: reward = 10.0\n",
      "Episode 2450: reward = 10.0\n",
      "Episode 2500: reward = 9.0\n",
      "Episode 2550: reward = 10.0\n",
      "Episode 2600: reward = 9.0\n",
      "Episode 2650: reward = 10.0\n",
      "Episode 2700: reward = 10.0\n",
      "Episode 2750: reward = 9.0\n",
      "Episode 2800: reward = 8.0\n",
      "Episode 2850: reward = 10.0\n",
      "Episode 2900: reward = 10.0\n",
      "Episode 2950: reward = 9.0\n",
      "Episode 3000: reward = 8.0\n",
      "Episode 3050: reward = 9.0\n",
      "Episode 3100: reward = 9.0\n",
      "Episode 3150: reward = 8.0\n",
      "Episode 3200: reward = 8.0\n",
      "Episode 3250: reward = 9.0\n",
      "Episode 3300: reward = 10.0\n",
      "Episode 3350: reward = 10.0\n",
      "Episode 3400: reward = 10.0\n",
      "Episode 3450: reward = 9.0\n",
      "Episode 3500: reward = 10.0\n",
      "Episode 3550: reward = 9.0\n",
      "Episode 3600: reward = 10.0\n",
      "Episode 3650: reward = 10.0\n",
      "Episode 3700: reward = 10.0\n",
      "Episode 3750: reward = 9.0\n",
      "Episode 3800: reward = 9.0\n",
      "Episode 3850: reward = 9.0\n",
      "Episode 3900: reward = 10.0\n",
      "Episode 3950: reward = 10.0\n",
      "Episode 4000: reward = 10.0\n",
      "Episode 4050: reward = 10.0\n",
      "Episode 4100: reward = 9.0\n",
      "Episode 4150: reward = 10.0\n",
      "Episode 4200: reward = 10.0\n",
      "Episode 4250: reward = 8.0\n",
      "Episode 4300: reward = 9.0\n",
      "Episode 4350: reward = 9.0\n",
      "Episode 4400: reward = 10.0\n",
      "Episode 4450: reward = 10.0\n",
      "Episode 4500: reward = 10.0\n",
      "Episode 4550: reward = 9.0\n",
      "Episode 4600: reward = 10.0\n",
      "Episode 4650: reward = 8.0\n",
      "Episode 4700: reward = 9.0\n",
      "Episode 4750: reward = 9.0\n",
      "Episode 4800: reward = 10.0\n",
      "Episode 4850: reward = 10.0\n",
      "Episode 4900: reward = 8.0\n",
      "Episode 4950: reward = 10.0\n",
      "Episode 5000: reward = 10.0\n",
      "Episode 5050: reward = 9.0\n",
      "Episode 5100: reward = 10.0\n",
      "Episode 5150: reward = 10.0\n",
      "Episode 5200: reward = 9.0\n",
      "Episode 5250: reward = 9.0\n",
      "Episode 5300: reward = 9.0\n",
      "Episode 5350: reward = 9.0\n",
      "Episode 5400: reward = 10.0\n",
      "Episode 5450: reward = 9.0\n",
      "Episode 5500: reward = 9.0\n",
      "Episode 5550: reward = 9.0\n",
      "Episode 5600: reward = 9.0\n",
      "Episode 5650: reward = 9.0\n",
      "Episode 5700: reward = 9.0\n",
      "Episode 5750: reward = 9.0\n",
      "Episode 5800: reward = 8.0\n",
      "Episode 5850: reward = 10.0\n",
      "Episode 5900: reward = 9.0\n",
      "Episode 5950: reward = 10.0\n",
      "Episode 6000: reward = 9.0\n",
      "Episode 6050: reward = 10.0\n",
      "Episode 6100: reward = 8.0\n",
      "Episode 6150: reward = 10.0\n",
      "Episode 6200: reward = 10.0\n",
      "Episode 6250: reward = 10.0\n",
      "Episode 6300: reward = 9.0\n",
      "Episode 6350: reward = 10.0\n",
      "Episode 6400: reward = 10.0\n",
      "Episode 6450: reward = 8.0\n",
      "Episode 6500: reward = 8.0\n",
      "Episode 6550: reward = 9.0\n",
      "Episode 6600: reward = 8.0\n",
      "Episode 6650: reward = 9.0\n",
      "Episode 6700: reward = 10.0\n",
      "Episode 6750: reward = 8.0\n",
      "Episode 6800: reward = 9.0\n",
      "Episode 6850: reward = 9.0\n",
      "Episode 6900: reward = 9.0\n",
      "Episode 6950: reward = 10.0\n",
      "Episode 7000: reward = 9.0\n",
      "Episode 7050: reward = 9.0\n",
      "Episode 7100: reward = 9.0\n",
      "Episode 7150: reward = 9.0\n",
      "Episode 7200: reward = 10.0\n",
      "Episode 7250: reward = 9.0\n",
      "Episode 7300: reward = 10.0\n",
      "Episode 7350: reward = 9.0\n",
      "Episode 7400: reward = 9.0\n",
      "Episode 7450: reward = 10.0\n",
      "Episode 7500: reward = 8.0\n",
      "Episode 7550: reward = 10.0\n",
      "Episode 7600: reward = 9.0\n",
      "Episode 7650: reward = 10.0\n",
      "Episode 7700: reward = 9.0\n",
      "Episode 7750: reward = 9.0\n",
      "Episode 7800: reward = 9.0\n",
      "Episode 7850: reward = 9.0\n",
      "Episode 7900: reward = 9.0\n",
      "Episode 7950: reward = 9.0\n",
      "Episode 8000: reward = 10.0\n",
      "Episode 8050: reward = 9.0\n",
      "Episode 8100: reward = 9.0\n",
      "Episode 8150: reward = 10.0\n",
      "Episode 8200: reward = 11.0\n",
      "Episode 8250: reward = 10.0\n",
      "Episode 8300: reward = 9.0\n",
      "Episode 8350: reward = 8.0\n",
      "Episode 8400: reward = 10.0\n",
      "Episode 8450: reward = 9.0\n",
      "Episode 8500: reward = 9.0\n",
      "Episode 8550: reward = 8.0\n",
      "Episode 8600: reward = 10.0\n",
      "Episode 8650: reward = 10.0\n",
      "Episode 8700: reward = 9.0\n",
      "Episode 8750: reward = 10.0\n",
      "Episode 8800: reward = 10.0\n",
      "Episode 8850: reward = 10.0\n",
      "Episode 8900: reward = 9.0\n",
      "Episode 8950: reward = 10.0\n",
      "Episode 9000: reward = 8.0\n",
      "Episode 9050: reward = 9.0\n",
      "Episode 9100: reward = 11.0\n",
      "Episode 9150: reward = 10.0\n",
      "Episode 9200: reward = 9.0\n",
      "Episode 9250: reward = 9.0\n",
      "Episode 9300: reward = 9.0\n",
      "Episode 9350: reward = 9.0\n",
      "Episode 9400: reward = 10.0\n",
      "Episode 9450: reward = 10.0\n",
      "Episode 9500: reward = 9.0\n",
      "Episode 9550: reward = 10.0\n",
      "Episode 9600: reward = 10.0\n",
      "Episode 9650: reward = 10.0\n",
      "Episode 9700: reward = 9.0\n",
      "Episode 9750: reward = 10.0\n",
      "Episode 9800: reward = 10.0\n",
      "Episode 9850: reward = 9.0\n",
      "Episode 9900: reward = 8.0\n",
      "Episode 9950: reward = 9.0\n"
     ]
    },
    {
     "data": {
      "image/png": "[encoded data removed]",
      "text/plain": [
       "<Figure size 720x360 with 2 Axes>"
      ]
     },
     "metadata": {
      "needs_background": "light"
     },
     "output_type": "display_data"
    }
   ],
   "source": [
    "policy_gradient()"
   ]
  },
  {
   "cell_type": "code",
   "execution_count": null,
   "metadata": {},
   "outputs": [],
   "source": []
  }
 ],
 "metadata": {
  "colab": {
   "provenance": []
  },
  "kernelspec": {
   "display_name": "Python 3 (ipykernel)",
   "language": "python",
   "name": "python3"
  },
  "language_info": {
   "codemirror_mode": {
    "name": "ipython",
    "version": 3
   },
   "file_extension": ".py",
   "mimetype": "text/x-python",
   "name": "python",
   "nbconvert_exporter": "python",
   "pygments_lexer": "ipython3",
   "version": "3.9.5"
  }
 },
 "nbformat": 4,
 "nbformat_minor": 1
}
